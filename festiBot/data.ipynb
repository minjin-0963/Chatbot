 urllib.parse import urlencode, quote_plus
from urllib.request import Request, urlopen
import xmltodict

# 요청 URL : http://api.visitkorea.or.kr/openapi/service/rest/KorService/searchFestival?ServiceKey=인증키
# &eventStartDate=20130101&eventEndDate=20130131&arrange=A&listYN=Y&pageNo=1&numOfRows=10&MobileOS=ETC&MobileApp=AppTesting

API_KEY = 'a0gDTRhSQoRFVZX6pvsd9EKM5PTvFAFsQ1Jit0BuaFjoxoga%2BY%2FFV1JQlAFFaNT%2FKOvhXDqvh88sqvZXuCmqCA%3D%3D' 
hangsa_url = 'http://api.visitkorea.or.kr/openapi/service/rest/KorService/searchFestival'

numOfRows = 20
arrange = 20
listYN = 'Y'
MobileOS = 'ETC'
MobileApp = 'AppTest'
areaCode = 1
eventStartDate = 20190915
eventEndDate = 20191231

URL = hangsa_url + '?' + 'ServiceKey=' + API_KEY + '&'

params = urlencode({quote_plus('eventStartDate') : eventStartDate, quote_plus('eventEndDate') : eventEndDate, quote_plus('arrange') : arrange,
                    quote_plus('listYN') : listYN, quote_plus('numOfRows') : numOfRows,
                    quote_plus('pageNo') : pageNo, quote_plus('MobileOS') : MobileOS,
                    quote_plus('MobileApp') : MobileApp, quote_plus('_type') : 'json'})

print(URL+params)
request = Request(URL + params)
request.get_method = lambda: 'GET'
response_body = urlopen(request).read().decode('utf-8')
parsed = response_body
parsed

# def recent_alert():
#     return parsed['response']['body']['items']['item'][0]['districtName']


# if __name__ == "__main__":
#     print(recent_alert())
